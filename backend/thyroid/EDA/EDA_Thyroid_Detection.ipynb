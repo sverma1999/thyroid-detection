{
 "cells": [
  {
   "cell_type": "code",
   "execution_count": 1,
   "metadata": {},
   "outputs": [
    {
     "ename": "ModuleNotFoundError",
     "evalue": "No module named 'sklearn'",
     "output_type": "error",
     "traceback": [
      "\u001b[0;31m---------------------------------------------------------------------------\u001b[0m",
      "\u001b[0;31mModuleNotFoundError\u001b[0m                       Traceback (most recent call last)",
      "Cell \u001b[0;32mIn[1], line 8\u001b[0m\n\u001b[1;32m      4\u001b[0m \u001b[39mimport\u001b[39;00m \u001b[39mseaborn\u001b[39;00m \u001b[39mas\u001b[39;00m \u001b[39msns\u001b[39;00m\n\u001b[1;32m      6\u001b[0m \u001b[39m# The resample function is used for resampling data, typically for dealing with imbalanced datasets by\u001b[39;00m\n\u001b[1;32m      7\u001b[0m \u001b[39m# either oversampling the minority class or undersampling the majority class\u001b[39;00m\n\u001b[0;32m----> 8\u001b[0m \u001b[39mfrom\u001b[39;00m \u001b[39msklearn\u001b[39;00m\u001b[39m.\u001b[39;00m\u001b[39mutils\u001b[39;00m \u001b[39mimport\u001b[39;00m resample\n\u001b[1;32m     10\u001b[0m \u001b[39m# These imports provide various techniques for oversampling imbalanced datasets from the imblearn.over_sampling module.\u001b[39;00m\n\u001b[1;32m     11\u001b[0m \u001b[39m# Oversampling is used to increase the number of samples in the minority class to balance the dataset.\u001b[39;00m\n\u001b[1;32m     12\u001b[0m \u001b[39mfrom\u001b[39;00m \u001b[39mimblearn\u001b[39;00m\u001b[39m.\u001b[39;00m\u001b[39mover_sampling\u001b[39;00m \u001b[39mimport\u001b[39;00m SMOTENC,RandomOverSampler,KMeansSMOTE\n",
      "\u001b[0;31mModuleNotFoundError\u001b[0m: No module named 'sklearn'"
     ]
    }
   ],
   "source": [
    "import pandas as pd\n",
    "import numpy as np\n",
    "import matplotlib.pyplot as plot\n",
    "import seaborn as sns\n",
    "\n",
    "# The resample function is used for resampling data, typically for dealing with imbalanced datasets by\n",
    "# either oversampling the minority class or undersampling the majority class\n",
    "from sklearn.utils import resample\n",
    "\n",
    "# These imports provide various techniques for oversampling imbalanced datasets from the imblearn.over_sampling module.\n",
    "# Oversampling is used to increase the number of samples in the minority class to balance the dataset.\n",
    "from imblearn.over_sampling import SMOTENC,RandomOverSampler,KMeansSMOTE\n",
    "\n",
    "# The KNNImputer is used for imputing missing values in a dataset using the k-nearest neighbors approach\n",
    "from sklearn.impute import KNNImputer\n",
    "\n",
    "# The LabelEncoder is used for encoding categorical features into numeric values between 0 and n_classes-1 for models that require numeric inputs.\n",
    "from sklearn.preprocessing import LabelEncoder\n",
    "sns.set()\n",
    "\n"
   ]
  },
  {
   "cell_type": "code",
   "execution_count": null,
   "metadata": {},
   "outputs": [],
   "source": []
  },
  {
   "cell_type": "code",
   "execution_count": null,
   "metadata": {},
   "outputs": [],
   "source": []
  },
  {
   "cell_type": "code",
   "execution_count": null,
   "metadata": {},
   "outputs": [],
   "source": []
  },
  {
   "cell_type": "code",
   "execution_count": null,
   "metadata": {},
   "outputs": [],
   "source": []
  }
 ],
 "metadata": {
  "kernelspec": {
   "display_name": "Python 3",
   "language": "python",
   "name": "python3"
  },
  "language_info": {
   "codemirror_mode": {
    "name": "ipython",
    "version": 3
   },
   "file_extension": ".py",
   "mimetype": "text/x-python",
   "name": "python",
   "nbconvert_exporter": "python",
   "pygments_lexer": "ipython3",
   "version": "3.8.16"
  },
  "orig_nbformat": 4
 },
 "nbformat": 4,
 "nbformat_minor": 2
}
